{
 "cells": [
  {
   "cell_type": "markdown",
   "id": "a4c366db-e8f8-4233-a1f8-94749ac62dc0",
   "metadata": {},
   "source": [
    "# Final Project Title\n",
    "\n",
    "## Team Members\n",
    "\n",
    "1. Oğuzhan Koç 090170321\n",
    "2. Emir Sadık Tonoğlu 090190744\n",
    "\n",
    "## Dataset\n",
    "\n",
    "Our dataset can be found on [kaggle](https://www.kaggle.com/datasets/ktyptorio/football-manager-2020).\n",
    "\n",
    "The dataset we will use belongs to a very successful game called Football Manager, especially in terms of scouting. In the dataset, there are constant features such as nationality, height and weight of about 140,000 players. In addition, it has detailed abilities, total current abilities (CA) and potential abilities (PA) of the players in 2020.\n",
    "\n",
    "## Description of the Problem\n",
    "\n",
    "We want to answer the question of whether the current and potential quality of a team can be understood by looking at the FM 2020 dataset. Our aim is to analyze the current squad quality and depth of the teams by using current and potential data within the scope of this project. We also intend to visualize the potential development of teams in different ways. When our project is completed, we think that we will be able to forecast the future development of the clubs and decide their current strength.\n",
    "\n",
    "## Project Planning\n",
    "\n",
    "### Project Pieces\n",
    "\n",
    "Our main plan is for both of us to put effort in every step of the project because we care about our subject very much. We have been already doing the Literature Review for several months, as Data Science in Football is also our final thesis topic. However, we have already made progress in Data Collection and Cleaning, mostly with Emir's efforts. Emir will be responsible for Model Building and Oğuzhan will be responsible for Visualization and Analysis. But as we said at the beginning, we will both take part in every aspect of the project.\n",
    "\n",
    "### Hardware and Software\n",
    "\n",
    "We will use Python and its libraries such as pandas, numpy, scikit-learn and more if it is neeeded.\n",
    "\n",
    "### Calendar\n",
    "\n",
    "* **Literature Review** - We are already prepared for this and it took few months. But we will continue our researchs through the semestr if it is needed.\n",
    "\n",
    "* **Data Collection** - We have already found our dataset. This took one week before the semestr starts.\n",
    "\n",
    "* **Data Cleaning** - This part is almost done, by mostly Emir, and this took one week too.\n",
    "\n",
    "* **Model Building** - Our plan is to complete it by 25th April. \n",
    "\n",
    "* **Visualization** - We assume that May will be the month where we discuss about the different visualization methods and what is important to be visualized.\n",
    "\n",
    "* **Analysis** - The beginning of analysis process has not been decided but we will analyze the outcomes every time we meet for the project. But the final analysis meetings will be held on the last weeks of May.\n",
    "\n",
    "* **Meetings** - We plan to meet in once in two weeks but the meetings can be rearranged through the necessarities."
   ]
  },
  {
   "cell_type": "code",
   "execution_count": null,
   "id": "4f85e735-1c1f-419b-aa66-08c07ac64069",
   "metadata": {},
   "outputs": [],
   "source": []
  }
 ],
 "metadata": {
  "kernelspec": {
   "display_name": "Python 3 (ipykernel)",
   "language": "python",
   "name": "python3"
  },
  "language_info": {
   "codemirror_mode": {
    "name": "ipython",
    "version": 3
   },
   "file_extension": ".py",
   "mimetype": "text/x-python",
   "name": "python",
   "nbconvert_exporter": "python",
   "pygments_lexer": "ipython3",
   "version": "3.9.7"
  }
 },
 "nbformat": 4,
 "nbformat_minor": 5
}
